{
 "cells": [
  {
   "cell_type": "code",
   "execution_count": null,
   "metadata": {},
   "outputs": [],
   "source": [
    "import praw\n",
    "import psaw"
   ]
  },
  {
   "cell_type": "code",
   "execution_count": null,
   "metadata": {},
   "outputs": [],
   "source": [
    "# track Reddit rate limiting\n",
    "import prawcore\n",
    "import ipywidgets as widgets\n",
    "from IPython.display import display\n",
    "\n",
    "rate_limit_output = widgets.Output()\n",
    "display(rate_limit_output)\n",
    "\n",
    "class RateLimitLoggingRequestor(prawcore.Requestor):\n",
    "    \n",
    "    @rate_limit_output.capture(clear_output=True)\n",
    "    def request(self, *args, **kwargs):\n",
    "        response = super().request(*args, **kwargs)\n",
    "        headers = response.headers\n",
    "        print({k:headers[k] for k in headers if k.startswith(\"x-ratelimit\")})\n",
    "        return response"
   ]
  },
  {
   "cell_type": "code",
   "execution_count": null,
   "metadata": {},
   "outputs": [],
   "source": [
    "reddit = praw.Reddit(\n",
    "    client_id=\"NEuQE23gPSC5QA\",\n",
    "    client_secret=\"pVJemwClzr77juCfn3M65vsAYDc\",\n",
    "    user_agent=\"research\",\n",
    "    username=\"notNotLurking\",\n",
    "    password=\"Bebrave!Havefun!\",\n",
    "    requestor_class=RateLimitLoggingRequestor\n",
    ")\n",
    "\n",
    "api = psaw.PushshiftAPI(reddit)"
   ]
  },
  {
   "cell_type": "code",
   "execution_count": null,
   "metadata": {},
   "outputs": [],
   "source": [
    "from datetime import datetime\n",
    "import matplotlib.pyplot as plt\n",
    "import numpy as np\n",
    "from collections import Counter"
   ]
  },
  {
   "cell_type": "code",
   "execution_count": null,
   "metadata": {},
   "outputs": [],
   "source": [
    "start_epoch=int(datetime(2019, 12, 1).timestamp())\n",
    "end_epoch=int(datetime(2020, 1, 1).timestamp())\n",
    "comments=api.search_comments(author='grrrrreat',after=start_epoch,before=end_epoch)\n",
    "counter=Counter(datetime.fromtimestamp(comment.created_utc).timetuple().tm_yday for comment in comments)"
   ]
  },
  {
   "cell_type": "code",
   "execution_count": null,
   "metadata": {},
   "outputs": [],
   "source": [
    "%matplotlib ipympl"
   ]
  },
  {
   "cell_type": "code",
   "execution_count": null,
   "metadata": {},
   "outputs": [],
   "source": [
    "a = np.array([counter[d] for d in range(334,365)])\n",
    "plt.figure()\n",
    "plt.plot(a)\n",
    "plt.show()"
   ]
  },
  {
   "cell_type": "code",
   "execution_count": null,
   "metadata": {},
   "outputs": [],
   "source": []
  }
 ],
 "metadata": {
  "language_info": {
   "name": "python",
   "pygments_lexer": "ipython3"
  }
 },
 "nbformat": 4,
 "nbformat_minor": 4
}
