{
 "cells": [
  {
   "cell_type": "code",
   "execution_count": null,
   "metadata": {},
   "outputs": [],
   "source": [
    "import datetime as dt\n",
    "import praw\n",
    "from psaw import PushshiftAPI"
   ]
  },
  {
   "cell_type": "code",
   "execution_count": null,
   "metadata": {},
   "outputs": [],
   "source": [
    "reddit = praw.Reddit(\n",
    "    client_id=\"NEuQE23gPSC5QA\",\n",
    "    client_secret=\"pVJemwClzr77juCfn3M65vsAYDc\",\n",
    "    user_agent=\"research\",\n",
    "    username=\"notNotLurking\",\n",
    "    password=\"Bebrave!Havefun!\",\n",
    ")\n",
    "api = PushshiftAPI(reddit)"
   ]
  },
  {
   "cell_type": "markdown",
   "metadata": {},
   "source": [
    "Grab comments... this can take a while... like 15s/1k comments"
   ]
  },
  {
   "cell_type": "code",
   "execution_count": null,
   "metadata": {},
   "outputs": [],
   "source": [
    "comments = list(api.search_comments(subreddit=\"politics\", limit=10_000))\n",
    "\n",
    "print(\"We grabbed %s comments\" % len(comments))"
   ]
  },
  {
   "cell_type": "markdown",
   "metadata": {},
   "source": [
    "Let's figure out which attributes each exist on at least one of the comments, and are not private."
   ]
  },
  {
   "cell_type": "code",
   "execution_count": null,
   "metadata": {},
   "outputs": [],
   "source": [
    "attributes = set()\n",
    "for s in comments:\n",
    "    attributes.update(vars(s).keys())\n",
    "public_attributes = sorted(s for s in attributes if s[0] != \"_\")"
   ]
  },
  {
   "cell_type": "markdown",
   "metadata": {},
   "source": [
    "How many are there?"
   ]
  },
  {
   "cell_type": "code",
   "execution_count": null,
   "metadata": {},
   "outputs": [],
   "source": [
    "len(public_attributes)"
   ]
  },
  {
   "cell_type": "markdown",
   "metadata": {},
   "source": [
    "Let's see how many times each one that doesn't appear every time appears"
   ]
  },
  {
   "cell_type": "code",
   "execution_count": null,
   "metadata": {},
   "outputs": [],
   "source": [
    "from collections import Counter\n",
    "\n",
    "counter = Counter()\n",
    "for s in comments:\n",
    "    counter.update(vars(s).keys())\n",
    "sorted(\n",
    "    (t for t in counter.items() if t[0] in public_attributes and t[1] < len(comments)),\n",
    "    key=lambda t: t[1],\n",
    ")"
   ]
  },
  {
   "cell_type": "code",
   "execution_count": null,
   "metadata": {},
   "outputs": [],
   "source": [
    "len(_)"
   ]
  },
  {
   "cell_type": "markdown",
   "metadata": {},
   "source": [
    "Let's see which attributes never appear with any value other than None"
   ]
  },
  {
   "cell_type": "code",
   "execution_count": null,
   "metadata": {},
   "outputs": [],
   "source": [
    "def none_only_attribute(attribute):\n",
    "    for s in comments:\n",
    "        if attribute in vars(s).keys() and getattr(s, attribute) != None:\n",
    "            return False\n",
    "    return True\n",
    "\n",
    "\n",
    "none_only_attributes = [a for a in public_attributes if none_only_attribute(a)]\n",
    "none_only_attributes"
   ]
  },
  {
   "cell_type": "code",
   "execution_count": null,
   "metadata": {},
   "outputs": [],
   "source": [
    "len(none_only_attributes)"
   ]
  },
  {
   "cell_type": "markdown",
   "metadata": {},
   "source": [
    "Which attributes are not always present, but when present, always have the value None? (This may be an empty set.)"
   ]
  },
  {
   "cell_type": "code",
   "execution_count": null,
   "metadata": {},
   "outputs": [],
   "source": [
    "set(none_only_attributes) - set(\n",
    "    a for a in none_only_attributes if all(hasattr(s, a) for s in comments)\n",
    ")"
   ]
  },
  {
   "cell_type": "code",
   "execution_count": null,
   "metadata": {},
   "outputs": [],
   "source": [
    "def value_for_attribute(attribute):\n",
    "    \"\"\"Try to find a non-None value for the given attribute\"\"\"\n",
    "    for s in comments:\n",
    "        if attribute in vars(s).keys() and getattr(s, attribute) != None:\n",
    "            return getattr(s, attribute)\n",
    "    return None"
   ]
  },
  {
   "cell_type": "code",
   "execution_count": null,
   "metadata": {},
   "outputs": [],
   "source": [
    "def value_for_attribute_nonfalsy(attribute):\n",
    "    \"\"\"Try to find a non-Falsy value for the given attribute\"\"\"\n",
    "    for s in comments:\n",
    "        if attribute in vars(s).keys() and getattr(s, attribute):\n",
    "            return getattr(s, attribute)\n",
    "    return value_for_attribute(attribute)"
   ]
  },
  {
   "cell_type": "markdown",
   "metadata": {},
   "source": [
    "Which types are taken on by the values of all the public attributes?"
   ]
  },
  {
   "cell_type": "code",
   "execution_count": null,
   "metadata": {},
   "outputs": [],
   "source": [
    "set(type(value_for_attribute(a)) for a in public_attributes)"
   ]
  },
  {
   "cell_type": "code",
   "execution_count": null,
   "metadata": {},
   "outputs": [],
   "source": [
    "def attributes_for_type(t):\n",
    "    return [a for a in public_attributes if type(value_for_attribute(a)) == t]"
   ]
  },
  {
   "cell_type": "markdown",
   "metadata": {},
   "source": [
    "Note the author and subreddit attributes are praw things computed from author_fullname and subreddit_id"
   ]
  },
  {
   "cell_type": "markdown",
   "metadata": {},
   "source": [
    "Which attributes take on dict values?"
   ]
  },
  {
   "cell_type": "code",
   "execution_count": null,
   "metadata": {},
   "outputs": [],
   "source": [
    "dict_attributes = attributes_for_type(dict)\n",
    "dict_attributes"
   ]
  },
  {
   "cell_type": "markdown",
   "metadata": {},
   "source": [
    "Which attributes take on list values?"
   ]
  },
  {
   "cell_type": "code",
   "execution_count": null,
   "metadata": {},
   "outputs": [],
   "source": [
    "list_attributes = attributes_for_type(list)\n",
    "list_attributes"
   ]
  },
  {
   "cell_type": "markdown",
   "metadata": {},
   "source": [
    "This code can be used to \"sample\" interesting values for attributes. It skips Nones and tries to skip empty collections"
   ]
  },
  {
   "cell_type": "code",
   "execution_count": null,
   "metadata": {},
   "outputs": [],
   "source": [
    "a = \"author_flair_richtext\"\n",
    "v = value_for_attribute_nonfalsy(a)\n",
    "v if v else value_for_attribute(a)"
   ]
  },
  {
   "cell_type": "markdown",
   "metadata": {},
   "source": [
    "This code computes up all (optionally, non-falsy) values taken on by the attribute"
   ]
  },
  {
   "cell_type": "code",
   "execution_count": null,
   "metadata": {},
   "outputs": [],
   "source": [
    "non_falsy = True\n",
    "[\n",
    "    getattr(s, a)\n",
    "    for s in comments\n",
    "    if a in vars(s).keys() and (not non_falsy or getattr(s, a))\n",
    "]"
   ]
  },
  {
   "cell_type": "code",
   "execution_count": null,
   "metadata": {},
   "outputs": [],
   "source": [
    "primitives = [bool, float, int, str]"
   ]
  },
  {
   "cell_type": "code",
   "execution_count": null,
   "metadata": {},
   "outputs": [],
   "source": [
    "primitive_attributes = [\n",
    "    a for a in public_attributes if type(value_for_attribute(a)) in primitives\n",
    "]\n",
    "[(a, type(value_for_attribute_nonfalsy(a))) for a in primitive_attributes]"
   ]
  },
  {
   "cell_type": "code",
   "execution_count": null,
   "metadata": {},
   "outputs": [],
   "source": [
    "def longest_str(attribute):\n",
    "    return max(\n",
    "        len(getattr(s, attribute))\n",
    "        for s in comments\n",
    "        if attribute in vars(s).keys() and getattr(s, attribute)\n",
    "    )"
   ]
  },
  {
   "cell_type": "code",
   "execution_count": null,
   "metadata": {},
   "outputs": [],
   "source": [
    "attribute_lengths = {}\n",
    "for a in primitive_attributes:\n",
    "    if type(value_for_attribute(a)) == str:\n",
    "        attribute_lengths[a] = longest_str(a)\n",
    "attribute_lengths"
   ]
  }
 ],
 "metadata": {
  "language_info": {
   "name": "python",
   "pygments_lexer": "ipython3"
  }
 },
 "nbformat": 4,
 "nbformat_minor": 4
}
