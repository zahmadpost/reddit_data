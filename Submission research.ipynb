{
 "cells": [
  {
   "cell_type": "code",
   "execution_count": null,
   "metadata": {},
   "outputs": [],
   "source": [
    "import datetime as dt\n",
    "import praw\n",
    "from psaw import PushshiftAPI"
   ]
  },
  {
   "cell_type": "code",
   "execution_count": null,
   "metadata": {},
   "outputs": [],
   "source": [
    "reddit = praw.Reddit(\n",
    "    client_id='NEuQE23gPSC5QA', client_secret='pVJemwClzr77juCfn3M65vsAYDc',\n",
    "    user_agent='research', username='notNotLurking', password='Bebrave!Havefun!'\n",
    ")\n",
    "api = PushshiftAPI(reddit)"
   ]
  },
  {
   "cell_type": "markdown",
   "metadata": {},
   "source": [
    "Grab submissions... this can take a while... like 15s/1k submissions"
   ]
  },
  {
   "cell_type": "code",
   "execution_count": null,
   "metadata": {},
   "outputs": [],
   "source": [
    "submissions = list(api.search_submissions(\n",
    "    subreddit='politics',\n",
    "    limit=10_000))\n",
    "\n",
    "print(\"We grabbed %s submissions\" % len(submissions))"
   ]
  },
  {
   "cell_type": "markdown",
   "metadata": {},
   "source": [
    "Let's figure out which attributes each exist on at least one of the submissions, and are not private."
   ]
  },
  {
   "cell_type": "code",
   "execution_count": null,
   "metadata": {},
   "outputs": [],
   "source": [
    "attributes = set()\n",
    "for s in submissions:\n",
    "    attributes.update(vars(s).keys())\n",
    "public_attributes = sorted(s for s in attributes if s[0] != \"_\")"
   ]
  },
  {
   "cell_type": "markdown",
   "metadata": {},
   "source": [
    "How many are there?"
   ]
  },
  {
   "cell_type": "code",
   "execution_count": null,
   "metadata": {},
   "outputs": [],
   "source": [
    "len(public_attributes)"
   ]
  },
  {
   "cell_type": "markdown",
   "metadata": {},
   "source": [
    "Let's see how many times each one that doesn't appear every time appears"
   ]
  },
  {
   "cell_type": "code",
   "execution_count": null,
   "metadata": {},
   "outputs": [],
   "source": [
    "from collections import Counter\n",
    "counter = Counter()\n",
    "for s in submissions:\n",
    "    counter.update(vars(s).keys())\n",
    "sorted((t for t in counter.items() if t[0] in public_attributes and t[1] < len(submissions)), key=lambda t:t[1])"
   ]
  },
  {
   "cell_type": "code",
   "execution_count": null,
   "metadata": {},
   "outputs": [],
   "source": [
    "len(_)"
   ]
  },
  {
   "cell_type": "markdown",
   "metadata": {},
   "source": [
    "Let's see which attributes never appear with any value other than None"
   ]
  },
  {
   "cell_type": "code",
   "execution_count": null,
   "metadata": {},
   "outputs": [],
   "source": [
    "def none_only_attribute(attribute):\n",
    "    for s in submissions:\n",
    "        if attribute in vars(s).keys() and getattr(s, attribute) != None:\n",
    "            return False\n",
    "    return True\n",
    "\n",
    "none_only_attributes = [a for a in public_attributes if none_only_attribute(a)]\n",
    "none_only_attributes"
   ]
  },
  {
   "cell_type": "code",
   "execution_count": null,
   "metadata": {},
   "outputs": [],
   "source": [
    "len(none_only_attributes)"
   ]
  },
  {
   "cell_type": "markdown",
   "metadata": {},
   "source": [
    "Which attributes are not always present, but when present, always have the value None? (This may be an empty set.)"
   ]
  },
  {
   "cell_type": "code",
   "execution_count": null,
   "metadata": {},
   "outputs": [],
   "source": [
    "set(none_only_attributes) - set(a for a in none_only_attributes if all(hasattr(s,a) for s in submissions))"
   ]
  },
  {
   "cell_type": "code",
   "execution_count": null,
   "metadata": {},
   "outputs": [],
   "source": [
    "def value_for_attribute(attribute):\n",
    "    '''Try to find a non-None value for the given attribute'''\n",
    "    for s in submissions:\n",
    "        if attribute in vars(s).keys() and getattr(s, attribute) != None:\n",
    "            return getattr(s, attribute)\n",
    "    return None"
   ]
  },
  {
   "cell_type": "code",
   "execution_count": null,
   "metadata": {},
   "outputs": [],
   "source": [
    "def value_for_attribute_nonfalsy(attribute):\n",
    "    '''Try to find a non-Falsy value for the given attribute'''\n",
    "    for s in submissions:\n",
    "        if attribute in vars(s).keys() and getattr(s, attribute):\n",
    "            return getattr(s, attribute)\n",
    "    return value_for_attribute(attribute)"
   ]
  },
  {
   "cell_type": "markdown",
   "metadata": {},
   "source": [
    "Which types are taken on by the values of all the public attributes?"
   ]
  },
  {
   "cell_type": "code",
   "execution_count": null,
   "metadata": {},
   "outputs": [],
   "source": [
    "set(type(value_for_attribute(a)) for a in public_attributes)"
   ]
  },
  {
   "cell_type": "code",
   "execution_count": null,
   "metadata": {},
   "outputs": [],
   "source": [
    "def attributes_for_type(t):\n",
    "    return [a for a in public_attributes if type(value_for_attribute(a))==t]"
   ]
  },
  {
   "cell_type": "markdown",
   "metadata": {},
   "source": [
    "Note the author and subreddit attributes are praw things computed from author_fullname and subreddit_id"
   ]
  },
  {
   "cell_type": "markdown",
   "metadata": {},
   "source": [
    "Which attributes take on dict values?"
   ]
  },
  {
   "cell_type": "code",
   "execution_count": null,
   "metadata": {},
   "outputs": [],
   "source": [
    "dict_attributes = attributes_for_type(dict)\n",
    "dict_attributes"
   ]
  },
  {
   "cell_type": "markdown",
   "metadata": {},
   "source": [
    "Which attributes take on list values?"
   ]
  },
  {
   "cell_type": "code",
   "execution_count": null,
   "metadata": {},
   "outputs": [],
   "source": [
    "list_attributes = attributes_for_type(list)\n",
    "list_attributes"
   ]
  },
  {
   "cell_type": "markdown",
   "metadata": {},
   "source": [
    "This code can be used to \"sample\" interesting values for attributes. It skips Nones and tries to skip empty collections"
   ]
  },
  {
   "cell_type": "code",
   "execution_count": null,
   "metadata": {},
   "outputs": [],
   "source": [
    "a = \"link_flair_richtext\"\n",
    "v = value_for_attribute_nonfalsy(a)\n",
    "v if v else value_for_attribute(a)"
   ]
  },
  {
   "cell_type": "markdown",
   "metadata": {},
   "source": [
    "This code computes up all (optionally, non-falsy) values taken on by the attribute"
   ]
  },
  {
   "cell_type": "code",
   "execution_count": null,
   "metadata": {},
   "outputs": [],
   "source": [
    "non_falsy = True\n",
    "[getattr(s, a) for s in submissions if a in vars(s).keys() and (not non_falsy or getattr(s, a))]"
   ]
  },
  {
   "cell_type": "markdown",
   "metadata": {},
   "source": [
    "I recommend grabbing at least:\n",
    "- media: the url attribute from the media dict; other subattributes of interest may be author_name, HTML, provider_name, provider_url\n",
    "- preview: the URL of the highest-resolution preview image\n",
    "- gildings: assume the coin types are stable and make integer columns, or pickle the entire dict?\n",
    "- all_awardings: is the list of awards readers can give of any importance?\n",
    "- author_flair_richtext: this is an array of decorations. Pickle?\n",
    "- awarders: a list of redditor display names. Pickle?\n",
    "- collections: big lists of submissions... don't know\n",
    "- crosspost_parent_list: potentially a lot of info here...\n",
    "- link_flair_richtext: typically there's one English phrase explaining a reason for submission rejection\n",
    "- mod_reports, steward_reports, user_reports: these appear to be censored"
   ]
  },
  {
   "cell_type": "code",
   "execution_count": null,
   "metadata": {},
   "outputs": [],
   "source": [
    "primitives = [bool, float, int, str]"
   ]
  },
  {
   "cell_type": "code",
   "execution_count": null,
   "metadata": {},
   "outputs": [],
   "source": [
    "primitive_attributes = [a for a in public_attributes if type(value_for_attribute(a)) in primitives]\n",
    "[(a, type(value_for_attribute_nonfalsy(a))) for a in primitive_attributes]"
   ]
  },
  {
   "cell_type": "code",
   "execution_count": null,
   "metadata": {},
   "outputs": [],
   "source": [
    "def longest_str(attribute):\n",
    "    return max(len(getattr(s, attribute)) for s in submissions if attribute in vars(s).keys() and getattr(s, attribute))"
   ]
  },
  {
   "cell_type": "code",
   "execution_count": null,
   "metadata": {},
   "outputs": [],
   "source": [
    "attribute_lengths = {}\n",
    "for a in primitive_attributes:\n",
    "    if type(value_for_attribute(a))==str:\n",
    "        attribute_lengths[a] = longest_str(a)\n",
    "attribute_lengths"
   ]
  }
 ],
 "metadata": {
  "language_info": {
   "name": "python",
   "pygments_lexer": "ipython3"
  }
 },
 "nbformat": 4,
 "nbformat_minor": 4
}
