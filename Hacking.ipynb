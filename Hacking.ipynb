{
 "cells": [
  {
   "cell_type": "code",
   "execution_count": null,
   "metadata": {},
   "outputs": [],
   "source": [
    "import praw\n",
    "import psaw\n",
    "import prawmagic"
   ]
  },
  {
   "cell_type": "code",
   "execution_count": null,
   "metadata": {},
   "outputs": [],
   "source": [
    "# patch praw to save JSON\n",
    "prawmagic.save_json()"
   ]
  },
  {
   "cell_type": "code",
   "execution_count": null,
   "metadata": {},
   "outputs": [],
   "source": [
    "# patch praw to make it faster\n",
    "prawmagic.speed_up()"
   ]
  },
  {
   "cell_type": "code",
   "execution_count": null,
   "metadata": {},
   "outputs": [],
   "source": [
    "# display praw rate limiting\n",
    "prawmagic.display_rate_limit()"
   ]
  },
  {
   "cell_type": "code",
   "execution_count": null,
   "metadata": {},
   "outputs": [],
   "source": [
    "reddit = praw.Reddit(\n",
    "    client_id=\"NEuQE23gPSC5QA\",\n",
    "    client_secret=\"pVJemwClzr77juCfn3M65vsAYDc\",\n",
    "    user_agent=\"research\",\n",
    "    username=\"notNotLurking\",\n",
    "    password=\"Bebrave!Havefun!\",\n",
    "    requestor_class=prawmagic.RateLimitLoggingRequestor\n",
    ")\n",
    "\n",
    "api = psaw.PushshiftAPI(reddit)"
   ]
  },
  {
   "cell_type": "code",
   "execution_count": null,
   "metadata": {},
   "outputs": [],
   "source": [
    "from tqdm import tqdm\n",
    "n = 15_000\n",
    "submissions = [s.json for s in tqdm(api.search_submissions(subreddit=\"politics\", limit=n), total=n)]\n",
    "len(submissions[n-1])"
   ]
  },
  {
   "cell_type": "code",
   "execution_count": null,
   "metadata": {},
   "outputs": [],
   "source": [
    "q = list(tqdm((s.json for s in reddit.info(\"t3_\"+s['id'] for s in submissions)),total=n))\n",
    "len(q[-1])"
   ]
  }
 ],
 "metadata": {
  "language_info": {
   "name": "python",
   "pygments_lexer": "ipython3"
  }
 },
 "nbformat": 4,
 "nbformat_minor": 4
}
